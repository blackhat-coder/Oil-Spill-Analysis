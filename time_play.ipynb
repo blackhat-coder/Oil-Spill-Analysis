{
    "cells": [
        {
            "cell_type": "code",
            "execution_count": 1,
            "source": [
                "import pandas as pd\r\n",
                "import numpy as np"
            ],
            "outputs": [],
            "metadata": {}
        },
        {
            "cell_type": "code",
            "execution_count": 2,
            "source": [
                "aapl_googl = pd.read_csv(\r\n",
                "    \"https://raw.githubusercontent.com/BexTuychiev/medium_stories/master/2021/july/3_time_series_manipulation/data/apple_google.csv\",\r\n",
                "    parse_dates=[\"Date\"],\r\n",
                "    index_col=\"Date\",\r\n",
                ").dropna()"
            ],
            "outputs": [],
            "metadata": {}
        },
        {
            "cell_type": "code",
            "execution_count": 3,
            "source": [
                "aapl_googl.head()"
            ],
            "outputs": [
                {
                    "output_type": "execute_result",
                    "data": {
                        "text/plain": [
                            "             AAPL    GOOG\n",
                            "Date                     \n",
                            "2010-12-16  45.89  295.56\n",
                            "2010-12-17  45.80  295.10\n",
                            "2010-12-20  46.03  297.23\n",
                            "2010-12-21  46.32  301.23\n",
                            "2010-12-22  46.45  302.44"
                        ],
                        "text/html": [
                            "<div>\n",
                            "<style scoped>\n",
                            "    .dataframe tbody tr th:only-of-type {\n",
                            "        vertical-align: middle;\n",
                            "    }\n",
                            "\n",
                            "    .dataframe tbody tr th {\n",
                            "        vertical-align: top;\n",
                            "    }\n",
                            "\n",
                            "    .dataframe thead th {\n",
                            "        text-align: right;\n",
                            "    }\n",
                            "</style>\n",
                            "<table border=\"1\" class=\"dataframe\">\n",
                            "  <thead>\n",
                            "    <tr style=\"text-align: right;\">\n",
                            "      <th></th>\n",
                            "      <th>AAPL</th>\n",
                            "      <th>GOOG</th>\n",
                            "    </tr>\n",
                            "    <tr>\n",
                            "      <th>Date</th>\n",
                            "      <th></th>\n",
                            "      <th></th>\n",
                            "    </tr>\n",
                            "  </thead>\n",
                            "  <tbody>\n",
                            "    <tr>\n",
                            "      <th>2010-12-16</th>\n",
                            "      <td>45.89</td>\n",
                            "      <td>295.56</td>\n",
                            "    </tr>\n",
                            "    <tr>\n",
                            "      <th>2010-12-17</th>\n",
                            "      <td>45.80</td>\n",
                            "      <td>295.10</td>\n",
                            "    </tr>\n",
                            "    <tr>\n",
                            "      <th>2010-12-20</th>\n",
                            "      <td>46.03</td>\n",
                            "      <td>297.23</td>\n",
                            "    </tr>\n",
                            "    <tr>\n",
                            "      <th>2010-12-21</th>\n",
                            "      <td>46.32</td>\n",
                            "      <td>301.23</td>\n",
                            "    </tr>\n",
                            "    <tr>\n",
                            "      <th>2010-12-22</th>\n",
                            "      <td>46.45</td>\n",
                            "      <td>302.44</td>\n",
                            "    </tr>\n",
                            "  </tbody>\n",
                            "</table>\n",
                            "</div>"
                        ]
                    },
                    "metadata": {},
                    "execution_count": 3
                }
            ],
            "metadata": {}
        },
        {
            "cell_type": "code",
            "execution_count": 7,
            "source": [
                "sp = pd.read_csv(\r\n",
                "    \"https://raw.githubusercontent.com/BexTuychiev/medium_stories/master/2021/july/3_time_series_manipulation/data/sp500.csv\",\r\n",
                ")"
            ],
            "outputs": [],
            "metadata": {}
        },
        {
            "cell_type": "code",
            "execution_count": 8,
            "source": [
                "sp.head()"
            ],
            "outputs": [
                {
                    "output_type": "execute_result",
                    "data": {
                        "text/plain": [
                            "         date    SP500\n",
                            "0  2007-06-29  1503.35\n",
                            "1  2007-07-02  1519.43\n",
                            "2  2007-07-03  1524.87\n",
                            "3  2007-07-05  1525.40\n",
                            "4  2007-07-06  1530.44"
                        ],
                        "text/html": [
                            "<div>\n",
                            "<style scoped>\n",
                            "    .dataframe tbody tr th:only-of-type {\n",
                            "        vertical-align: middle;\n",
                            "    }\n",
                            "\n",
                            "    .dataframe tbody tr th {\n",
                            "        vertical-align: top;\n",
                            "    }\n",
                            "\n",
                            "    .dataframe thead th {\n",
                            "        text-align: right;\n",
                            "    }\n",
                            "</style>\n",
                            "<table border=\"1\" class=\"dataframe\">\n",
                            "  <thead>\n",
                            "    <tr style=\"text-align: right;\">\n",
                            "      <th></th>\n",
                            "      <th>date</th>\n",
                            "      <th>SP500</th>\n",
                            "    </tr>\n",
                            "  </thead>\n",
                            "  <tbody>\n",
                            "    <tr>\n",
                            "      <th>0</th>\n",
                            "      <td>2007-06-29</td>\n",
                            "      <td>1503.35</td>\n",
                            "    </tr>\n",
                            "    <tr>\n",
                            "      <th>1</th>\n",
                            "      <td>2007-07-02</td>\n",
                            "      <td>1519.43</td>\n",
                            "    </tr>\n",
                            "    <tr>\n",
                            "      <th>2</th>\n",
                            "      <td>2007-07-03</td>\n",
                            "      <td>1524.87</td>\n",
                            "    </tr>\n",
                            "    <tr>\n",
                            "      <th>3</th>\n",
                            "      <td>2007-07-05</td>\n",
                            "      <td>1525.40</td>\n",
                            "    </tr>\n",
                            "    <tr>\n",
                            "      <th>4</th>\n",
                            "      <td>2007-07-06</td>\n",
                            "      <td>1530.44</td>\n",
                            "    </tr>\n",
                            "  </tbody>\n",
                            "</table>\n",
                            "</div>"
                        ]
                    },
                    "metadata": {},
                    "execution_count": 8
                }
            ],
            "metadata": {}
        },
        {
            "cell_type": "code",
            "execution_count": 11,
            "source": [
                "sp['date'] = pd.to_datetime(sp['date'])"
            ],
            "outputs": [],
            "metadata": {}
        },
        {
            "cell_type": "code",
            "execution_count": 15,
            "source": [
                "assert sp['date'].dtype == 'datetime64[ns]'"
            ],
            "outputs": [],
            "metadata": {}
        },
        {
            "cell_type": "code",
            "execution_count": 12,
            "source": [
                "sp.info()"
            ],
            "outputs": [
                {
                    "output_type": "stream",
                    "name": "stdout",
                    "text": [
                        "<class 'pandas.core.frame.DataFrame'>\n",
                        "RangeIndex: 2395 entries, 0 to 2394\n",
                        "Data columns (total 2 columns):\n",
                        " #   Column  Non-Null Count  Dtype         \n",
                        "---  ------  --------------  -----         \n",
                        " 0   date    2395 non-null   datetime64[ns]\n",
                        " 1   SP500   2395 non-null   float64       \n",
                        "dtypes: datetime64[ns](1), float64(1)\n",
                        "memory usage: 37.5 KB\n"
                    ]
                }
            ],
            "metadata": {}
        },
        {
            "cell_type": "code",
            "execution_count": 27,
            "source": [
                "sp['year'] = sp['date'].dt.dayofweek"
            ],
            "outputs": [],
            "metadata": {}
        },
        {
            "cell_type": "code",
            "execution_count": 29,
            "source": [
                "sp['date']"
            ],
            "outputs": [
                {
                    "output_type": "execute_result",
                    "data": {
                        "text/plain": [
                            "0      2007-06-29\n",
                            "1      2007-07-02\n",
                            "2      2007-07-03\n",
                            "3      2007-07-05\n",
                            "4      2007-07-06\n",
                            "          ...    \n",
                            "2390   2016-12-23\n",
                            "2391   2016-12-27\n",
                            "2392   2016-12-28\n",
                            "2393   2016-12-29\n",
                            "2394   2016-12-30\n",
                            "Name: date, Length: 2395, dtype: datetime64[ns]"
                        ]
                    },
                    "metadata": {},
                    "execution_count": 29
                }
            ],
            "metadata": {}
        },
        {
            "cell_type": "code",
            "execution_count": 32,
            "source": [
                "sp['shifted1'] = sp['date'].shift(periods=1)\r\n",
                "sp['shifted2'] = sp['date'].shift(periods=2)\r\n",
                "sp['lag1'] = sp['date'].shift(periods=-1)"
            ],
            "outputs": [],
            "metadata": {}
        },
        {
            "cell_type": "code",
            "execution_count": 33,
            "source": [
                "sp.head()"
            ],
            "outputs": [
                {
                    "output_type": "execute_result",
                    "data": {
                        "text/plain": [
                            "        date    SP500  year   shifted1   shifted2       lag1\n",
                            "0 2007-06-29  1503.35     4        NaT        NaT 2007-07-02\n",
                            "1 2007-07-02  1519.43     0 2007-06-29        NaT 2007-07-03\n",
                            "2 2007-07-03  1524.87     1 2007-07-02 2007-06-29 2007-07-05\n",
                            "3 2007-07-05  1525.40     3 2007-07-03 2007-07-02 2007-07-06\n",
                            "4 2007-07-06  1530.44     4 2007-07-05 2007-07-03 2007-07-09"
                        ],
                        "text/html": [
                            "<div>\n",
                            "<style scoped>\n",
                            "    .dataframe tbody tr th:only-of-type {\n",
                            "        vertical-align: middle;\n",
                            "    }\n",
                            "\n",
                            "    .dataframe tbody tr th {\n",
                            "        vertical-align: top;\n",
                            "    }\n",
                            "\n",
                            "    .dataframe thead th {\n",
                            "        text-align: right;\n",
                            "    }\n",
                            "</style>\n",
                            "<table border=\"1\" class=\"dataframe\">\n",
                            "  <thead>\n",
                            "    <tr style=\"text-align: right;\">\n",
                            "      <th></th>\n",
                            "      <th>date</th>\n",
                            "      <th>SP500</th>\n",
                            "      <th>year</th>\n",
                            "      <th>shifted1</th>\n",
                            "      <th>shifted2</th>\n",
                            "      <th>lag1</th>\n",
                            "    </tr>\n",
                            "  </thead>\n",
                            "  <tbody>\n",
                            "    <tr>\n",
                            "      <th>0</th>\n",
                            "      <td>2007-06-29</td>\n",
                            "      <td>1503.35</td>\n",
                            "      <td>4</td>\n",
                            "      <td>NaT</td>\n",
                            "      <td>NaT</td>\n",
                            "      <td>2007-07-02</td>\n",
                            "    </tr>\n",
                            "    <tr>\n",
                            "      <th>1</th>\n",
                            "      <td>2007-07-02</td>\n",
                            "      <td>1519.43</td>\n",
                            "      <td>0</td>\n",
                            "      <td>2007-06-29</td>\n",
                            "      <td>NaT</td>\n",
                            "      <td>2007-07-03</td>\n",
                            "    </tr>\n",
                            "    <tr>\n",
                            "      <th>2</th>\n",
                            "      <td>2007-07-03</td>\n",
                            "      <td>1524.87</td>\n",
                            "      <td>1</td>\n",
                            "      <td>2007-07-02</td>\n",
                            "      <td>2007-06-29</td>\n",
                            "      <td>2007-07-05</td>\n",
                            "    </tr>\n",
                            "    <tr>\n",
                            "      <th>3</th>\n",
                            "      <td>2007-07-05</td>\n",
                            "      <td>1525.40</td>\n",
                            "      <td>3</td>\n",
                            "      <td>2007-07-03</td>\n",
                            "      <td>2007-07-02</td>\n",
                            "      <td>2007-07-06</td>\n",
                            "    </tr>\n",
                            "    <tr>\n",
                            "      <th>4</th>\n",
                            "      <td>2007-07-06</td>\n",
                            "      <td>1530.44</td>\n",
                            "      <td>4</td>\n",
                            "      <td>2007-07-05</td>\n",
                            "      <td>2007-07-03</td>\n",
                            "      <td>2007-07-09</td>\n",
                            "    </tr>\n",
                            "  </tbody>\n",
                            "</table>\n",
                            "</div>"
                        ]
                    },
                    "metadata": {},
                    "execution_count": 33
                }
            ],
            "metadata": {}
        },
        {
            "cell_type": "code",
            "execution_count": 36,
            "source": [
                "sp['diff'] = sp['date'] - sp['shifted1']"
            ],
            "outputs": [],
            "metadata": {}
        },
        {
            "cell_type": "code",
            "execution_count": 37,
            "source": [
                "sp['diff']"
            ],
            "outputs": [
                {
                    "output_type": "execute_result",
                    "data": {
                        "text/plain": [
                            "0         NaT\n",
                            "1      3 days\n",
                            "2      1 days\n",
                            "3      2 days\n",
                            "4      1 days\n",
                            "        ...  \n",
                            "2390   1 days\n",
                            "2391   4 days\n",
                            "2392   1 days\n",
                            "2393   1 days\n",
                            "2394   1 days\n",
                            "Name: diff, Length: 2395, dtype: timedelta64[ns]"
                        ]
                    },
                    "metadata": {},
                    "execution_count": 37
                }
            ],
            "metadata": {}
        },
        {
            "cell_type": "code",
            "execution_count": 38,
            "source": [
                "sp['diff'].plot(figsize=(10, 9))"
            ],
            "outputs": [
                {
                    "output_type": "execute_result",
                    "data": {
                        "text/plain": [
                            "<AxesSubplot:>"
                        ]
                    },
                    "metadata": {},
                    "execution_count": 38
                },
                {
                    "output_type": "display_data",
                    "data": {
                        "text/plain": [
                            "<Figure size 720x648 with 1 Axes>"
                        ],
                        "image/png": "[encoded data removed]"
                    },
                    "metadata": {
                        "needs_background": "light"
                    }
                }
            ],
            "metadata": {}
        },
        {
            "cell_type": "code",
            "execution_count": 39,
            "source": [
                "sp['diff'].min()"
            ],
            "outputs": [
                {
                    "output_type": "execute_result",
                    "data": {
                        "text/plain": [
                            "Timedelta('5 days 00:00:00')"
                        ]
                    },
                    "metadata": {},
                    "execution_count": 39
                }
            ],
            "metadata": {}
        },
        {
            "cell_type": "code",
            "execution_count": null,
            "source": [],
            "outputs": [],
            "metadata": {}
        }
    ],
    "metadata": {
        "orig_nbformat": 4,
        "language_info": {
            "name": "python"
        }
    },
    "nbformat": 4,
    "nbformat_minor": 2
}